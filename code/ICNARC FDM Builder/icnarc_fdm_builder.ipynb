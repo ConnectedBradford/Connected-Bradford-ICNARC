{
 "cells": [
  {
   "cell_type": "markdown",
   "id": "7b6eba44-d5f2-48f4-8c2b-fce232c591f2",
   "metadata": {},
   "source": [
    "### Import the python libraries"
   ]
  },
  {
   "cell_type": "raw",
   "id": "0ccfea85-9f97-460b-b01a-6933731f30c0",
   "metadata": {},
   "source": [
    "from FDMBuilder.FDMTable import *\n",
    "from FDMBuilder.FDMDataset import *\n",
    "from FDMBuilder.testing_helpers import *"
   ]
  },
  {
   "cell_type": "raw",
   "id": "a51d3b56-388f-4429-866d-07a084d292b4",
   "metadata": {},
   "source": [
    "### Specify the empty dataset"
   ]
  },
  {
   "cell_type": "raw",
   "id": "69944bd6-1a3f-4fef-b32c-232ef3cd7461",
   "metadata": {},
   "source": [
    "### !!REPLACE THIS TEXT!! ###\n",
    "\n",
    "DATASET_ID = \"CY_FDM_ICNARC\"\n",
    "\n",
    "###\n",
    "\n",
    "# Leave this bit alone!\n",
    "if check_dataset_exists(DATASET_ID):\n",
    "    clear_dataset(DATASET_ID)\n",
    "    print(\"Good to go!\")\n",
    "else:\n",
    "    print(\"#\" * 33 + \" PROBLEM!! \" + 33 * \"#\" + \"\\n\")\n",
    "    print(\"Something doesn't look right. Check you spelled everything correctly,\\n\" \n",
    "          \"your dataset has been created in GCP, and you have the right permisssions\\n\")\n",
    "    print(\"#\" * 80)"
   ]
  },
  {
   "cell_type": "raw",
   "id": "d4fdd213-131c-4fdc-ac99-e7af1852e5de",
   "metadata": {},
   "source": [
    "### Define then build an FDMTable object based on the ICNARC source table"
   ]
  },
  {
   "cell_type": "raw",
   "id": "e69e7e68-122f-41cd-8b60-c89beabbef80",
   "metadata": {},
   "source": [
    "icnarc_table = FDMTable(\n",
    "    source_table_id=\"CY_MYSPACE_EmW.icnarc_06a_data\",\n",
    "    dataset_id=DATASET_ID\n",
    ")\n",
    "\n",
    "icnarc_table.build()"
   ]
  },
  {
   "cell_type": "raw",
   "id": "14dc62b3-b646-4794-82db-f6197e179ea4",
   "metadata": {},
   "source": [
    "### Define then build an FDMDataset using the new ICNARC table"
   ]
  },
  {
   "cell_type": "raw",
   "id": "9029cd88-3947-4bb4-93b3-4600361a63be",
   "metadata": {},
   "source": [
    "icnarc_dataset = FDMDataset(\n",
    "    dataset_id=DATASET_ID\n",
    ")\n",
    "\n",
    "icnarc_dataset.build(extract_end_date=\"2022-02-25\")"
   ]
  },
  {
   "cell_type": "raw",
   "id": "f6128765-06bc-4932-a852-d50da01d2f9f",
   "metadata": {},
   "source": []
  }
 ],
 "metadata": {
  "environment": {
   "kernel": "python3",
   "name": "r-cpu.4-1.m90",
   "type": "gcloud",
   "uri": "gcr.io/deeplearning-platform-release/r-cpu.4-1:m90"
  },
  "kernelspec": {
   "display_name": "Python 3",
   "language": "python",
   "name": "python3"
  },
  "language_info": {
   "codemirror_mode": {
    "name": "ipython",
    "version": 3
   },
   "file_extension": ".py",
   "mimetype": "text/x-python",
   "name": "python",
   "nbconvert_exporter": "python",
   "pygments_lexer": "ipython3",
   "version": "3.7.12"
  }
 },
 "nbformat": 4,
 "nbformat_minor": 5
}
